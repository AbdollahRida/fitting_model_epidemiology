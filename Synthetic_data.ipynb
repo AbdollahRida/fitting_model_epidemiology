{
 "cells": [
  {
   "cell_type": "markdown",
   "metadata": {},
   "source": [
    "# 1. Inference on Synthetic data\n",
    "\n",
    "Author: [Marc Lelarge](https://www.di.ens.fr/~lelarge/)\n",
    "\n",
    "Date: 04/05\n",
    "\n",
    "In this notebook, we test our approach on synthetic data.\n",
    "\n",
    "The problem can be described as follows: we are given a familly of ODEs $y'=h_\\theta(y,t)$, where the function $h$ is parametrized by the parameter $\\theta$ and a trajectory $z$, the problem is to find the best value of $\\theta$ such that $z'\\approx h_{\\theta}(z,t)$. In order to find the value of $\\theta$, we follow an optimization approach based on the tool developed in [Neural Ordinary Differential Equations](https://arxiv.org/abs/1806.07366). Namely, for a distance function $D$ on $\\mathbb{R}^d$, we define $L = D(y_\\theta -z)$ where $y_\\theta$ is the solution of the ODE $y'=h_{\\theta}(y,t)$ and we minimize the loss $L$ with respect to $\\theta$ with SGD.\n",
    "\n",
    "Here, to test this approach, we choose a parameter $\\theta$ and integrate the ODE to get the trajectory $z$. We show that based on $z$, we are able to retrieve the parameter $\\theta$."
   ]
  },
  {
   "cell_type": "code",
   "execution_count": 2,
   "metadata": {},
   "outputs": [],
   "source": [
    "%load_ext autoreload\n",
    "%autoreload 2\n",
    "%matplotlib inline\n",
    "import matplotlib.pyplot as plt\n",
    "import torch\n",
    "import torch.nn as nn\n",
    "import torch.optim as optim"
   ]
  },
  {
   "cell_type": "markdown",
   "metadata": {},
   "source": [
    "## a. the IHD Model \n",
    "\n",
    "We propose a simple version of the SIR Model at the start of the epidemics. In this case, all the population is susceptible.\n",
    "\n",
    "The standard SIR model is given by the equations:\n",
    "\\begin{eqnarray}\n",
    "\\dot{S}(t) &=& -\\beta S(t) I(t)\\\\\n",
    "\\dot{I}(t) &=& \\beta S(t) I(t) - \\gamma I(t) -\\nu I(t)\\\\\n",
    "\\dot{R}(t) &=& \\gamma I(t)\\\\\n",
    "\\dot{D}(t) &=& \\nu I(t)\n",
    "\\end{eqnarray}\n",
    "where $S(t)$, $I(t)$, $R(t)$ and $D(t)$ are, respectively, the fractions of susceptible, infectious, recovered and deceased individuals at time $t$. $\\beta$ is the contagion rate, $\\gamma$ is the recovery rate and $\\nu$ is the death rate.\n",
    "\n",
    "In the early stage of the epidemics, we make the approximation $S(t) \\approx 1$ so that the second equation simplifies to $\\dot{I}(t) = \\beta I(t) - \\gamma I(t) -\\nu I(t)$.\n",
    "\n",
    "We make two other modifications:\n",
    "- the contagion rate will depend on time $\\beta(t)$\n",
    "- we add a sub-category of the population $H(t)$, the numbers of individuals in hospital at time $t$. We assume that all deceased individuals are first in a hospital.\n",
    "\n",
    "We obtain the IHD model given by the equations:\n",
    "\\begin{eqnarray}\n",
    "\\dot{I}(t) &=& \\beta(t) I(t) -\\gamma I(t)-\\nu I(t)\\\\\n",
    "\\dot{R}(t) &=& \\gamma I(t)\\\\\n",
    "\\dot{H}(t) &=& \\nu I(t) - \\gamma H(t) - \\lambda H(t)\\\\\n",
    "\\dot{D}(t) &=& \\lambda H(t)\n",
    "\\end{eqnarray}\n",
    "note that the recovered individuals can be ignored to compute $I(t),H(t)$ and $D(t)$.\n",
    "\n",
    "In practice, we will prametrize the function $\\beta(t)$ as follows:\n",
    "$$\\beta(t) = \\beta_1 +\\delta \\sigma(t-\\tau),$$\n",
    "where $\\sigma(.)$ is the sigmoid function."
   ]
  },
  {
   "cell_type": "code",
   "execution_count": 3,
   "metadata": {},
   "outputs": [],
   "source": [
    "from model_epidemio import ihd_fit"
   ]
  },
  {
   "cell_type": "code",
   "execution_count": 4,
   "metadata": {},
   "outputs": [],
   "source": [
    "size = 101\n",
    "t = torch.linspace(0., size-1, size)\n",
    "true_init = torch.tensor([[0.01,0., 0.]])\n",
    "parms = torch.tensor([0.1,-0.04,0.05,0.015,0.02])\n",
    "time = torch.tensor([30.])\n",
    "ihd_synt = ihd_fit.IHD_model(parms,time)"
   ]
  },
  {
   "cell_type": "markdown",
   "metadata": {},
   "source": [
    "$\\beta_1=0.1, \\delta = -0.04, \\gamma = 0.05, \\nu = 0.015, \\lambda = 0.02$\n",
    "\n",
    "$\\tau = 30$\n",
    "\n",
    "$I(0)=0.01, H(0)=0, D(0)=0$"
   ]
  },
  {
   "cell_type": "code",
   "execution_count": 5,
   "metadata": {},
   "outputs": [],
   "source": [
    "y_synt = ihd_fit.predic_ode(ihd_synt, true_init,t)"
   ]
  },
  {
   "cell_type": "code",
   "execution_count": 6,
   "metadata": {},
   "outputs": [
    {
     "data": {
      "text/plain": [
       "[<matplotlib.lines.Line2D at 0x7fc5abfa3080>]"
      ]
     },
     "execution_count": 6,
     "metadata": {},
     "output_type": "execute_result"
    },
    {
     "data": {
      "image/png": "[encoded data removed]",
      "text/plain": [
       "<Figure size 432x288 with 1 Axes>"
      ]
     },
     "metadata": {
      "needs_background": "light"
     },
     "output_type": "display_data"
    }
   ],
   "source": [
    "plt.plot(t,y_synt[:,0], 'b')\n",
    "plt.plot(t,y_synt[:,1], 'g')\n",
    "plt.plot(t,y_synt[:,2], 'r')"
   ]
  },
  {
   "cell_type": "markdown",
   "metadata": {},
   "source": [
    "Integration of the ODE: Infected = Blue, Hospital = green, Deaths = red"
   ]
  },
  {
   "cell_type": "markdown",
   "metadata": {},
   "source": [
    "## b. Inference pb\n",
    "\n",
    "Now given the trajectory depicted above, we try to recover the parameters of the model."
   ]
  },
  {
   "cell_type": "code",
   "execution_count": 48,
   "metadata": {},
   "outputs": [],
   "source": [
    "parms_fit = torch.tensor([0.15,-0.05,0.05,0.05,0.05])\n",
    "time_fit = torch.tensor([50.])\n",
    "ihd_time = ihd_fit.IHD_fit_time(parms_fit,time_fit)"
   ]
  },
  {
   "cell_type": "code",
   "execution_count": 49,
   "metadata": {},
   "outputs": [
    {
     "name": "stdout",
     "output_type": "stream",
     "text": [
      "10 9.737190703162923e-05 [tensor(0.1399), tensor(-0.0597), tensor(0.0603), tensor(0.0598), tensor(0.0354), tensor([39.9936])]\n",
      "20 8.696584700373933e-05 [tensor(0.1398), tensor(-0.0593), tensor(0.0605), tensor(0.0594), tensor(0.0305), tensor([40.1213])]\n",
      "30 7.744281174382195e-05 [tensor(0.1399), tensor(-0.0588), tensor(0.0606), tensor(0.0590), tensor(0.0258), tensor([40.3663])]\n",
      "40 6.874083919683471e-05 [tensor(0.1400), tensor(-0.0582), tensor(0.0606), tensor(0.0584), tensor(0.0215), tensor([40.7014])]\n",
      "50 6.11956711509265e-05 [tensor(0.1403), tensor(-0.0576), tensor(0.0605), tensor(0.0579), tensor(0.0177), tensor([41.0923])]\n",
      "60 5.525864617084153e-05 [tensor(0.1405), tensor(-0.0569), tensor(0.0604), tensor(0.0573), tensor(0.0146), tensor([41.4944])]\n",
      "70 5.1089285989291966e-05 [tensor(0.1407), tensor(-0.0561), tensor(0.0604), tensor(0.0567), tensor(0.0124), tensor([41.8583])]\n",
      "80 4.835083018406294e-05 [tensor(0.1409), tensor(-0.0554), tensor(0.0604), tensor(0.0561), tensor(0.0111), tensor([42.1454])]\n",
      "90 4.645944500225596e-05 [tensor(0.1410), tensor(-0.0546), tensor(0.0605), tensor(0.0556), tensor(0.0103), tensor([42.3405])]\n",
      "100 4.493999222177081e-05 [tensor(0.1411), tensor(-0.0539), tensor(0.0606), tensor(0.0551), tensor(0.0100), tensor([42.4509])]\n",
      "110 4.353380063548684e-05 [tensor(0.1411), tensor(-0.0531), tensor(0.0609), tensor(0.0546), tensor(0.0099), tensor([42.4949])]\n",
      "120 4.213315332890488e-05 [tensor(0.1411), tensor(-0.0524), tensor(0.0612), tensor(0.0542), tensor(0.0098), tensor([42.4910])]\n",
      "130 4.070205977768637e-05 [tensor(0.1410), tensor(-0.0516), tensor(0.0615), tensor(0.0537), tensor(0.0098), tensor([42.4527])]\n",
      "140 3.923166514141485e-05 [tensor(0.1410), tensor(-0.0508), tensor(0.0618), tensor(0.0532), tensor(0.0099), tensor([42.3880])]\n",
      "150 3.772225682041608e-05 [tensor(0.1409), tensor(-0.0499), tensor(0.0621), tensor(0.0527), tensor(0.0099), tensor([42.3008])]\n",
      "160 3.6177196307107806e-05 [tensor(0.1408), tensor(-0.0491), tensor(0.0625), tensor(0.0522), tensor(0.0100), tensor([42.1924])]\n",
      "170 3.46015440300107e-05 [tensor(0.1407), tensor(-0.0482), tensor(0.0629), tensor(0.0517), tensor(0.0100), tensor([42.0625])]\n",
      "180 3.300148819107562e-05 [tensor(0.1407), tensor(-0.0473), tensor(0.0633), tensor(0.0512), tensor(0.0101), tensor([41.9104])]\n",
      "190 3.138431566185318e-05 [tensor(0.1406), tensor(-0.0464), tensor(0.0637), tensor(0.0506), tensor(0.0101), tensor([41.7354])]\n",
      "200 2.975827010232024e-05 [tensor(0.1405), tensor(-0.0455), tensor(0.0641), tensor(0.0500), tensor(0.0102), tensor([41.5368])]\n",
      "210 2.813241553667467e-05 [tensor(0.1404), tensor(-0.0446), tensor(0.0645), tensor(0.0494), tensor(0.0103), tensor([41.3142])]\n",
      "220 2.6516374418861233e-05 [tensor(0.1402), tensor(-0.0437), tensor(0.0649), tensor(0.0488), tensor(0.0103), tensor([41.0676])]\n",
      "230 2.492002931830939e-05 [tensor(0.1401), tensor(-0.0428), tensor(0.0654), tensor(0.0482), tensor(0.0104), tensor([40.7976])]\n",
      "240 2.3353166398010217e-05 [tensor(0.1400), tensor(-0.0419), tensor(0.0658), tensor(0.0475), tensor(0.0105), tensor([40.5051])]\n",
      "250 2.1824964278494008e-05 [tensor(0.1399), tensor(-0.0410), tensor(0.0663), tensor(0.0469), tensor(0.0106), tensor([40.1916])]\n",
      "260 2.034372664638795e-05 [tensor(0.1397), tensor(-0.0402), tensor(0.0668), tensor(0.0462), tensor(0.0107), tensor([39.8591])]\n",
      "270 1.891644933493808e-05 [tensor(0.1396), tensor(-0.0394), tensor(0.0672), tensor(0.0455), tensor(0.0108), tensor([39.5097])]\n",
      "280 1.7548707546666265e-05 [tensor(0.1395), tensor(-0.0387), tensor(0.0677), tensor(0.0448), tensor(0.0109), tensor([39.1462])]\n",
      "290 1.6244313883362338e-05 [tensor(0.1393), tensor(-0.0380), tensor(0.0682), tensor(0.0441), tensor(0.0110), tensor([38.7712])]\n",
      "300 1.5005545719759539e-05 [tensor(0.1392), tensor(-0.0374), tensor(0.0687), tensor(0.0434), tensor(0.0111), tensor([38.3878])]\n",
      "310 1.3833074262947775e-05 [tensor(0.1390), tensor(-0.0368), tensor(0.0691), tensor(0.0427), tensor(0.0113), tensor([37.9986])]\n",
      "320 1.272632107429672e-05 [tensor(0.1389), tensor(-0.0363), tensor(0.0696), tensor(0.0419), tensor(0.0114), tensor([37.6066])]\n",
      "330 1.1683681805152446e-05 [tensor(0.1387), tensor(-0.0359), tensor(0.0701), tensor(0.0412), tensor(0.0115), tensor([37.2142])]\n",
      "340 1.0702762665459886e-05 [tensor(0.1386), tensor(-0.0355), tensor(0.0706), tensor(0.0404), tensor(0.0117), tensor([36.8238])]\n",
      "350 9.780757864064071e-06 [tensor(0.1384), tensor(-0.0352), tensor(0.0710), tensor(0.0396), tensor(0.0118), tensor([36.4376])]\n",
      "360 8.914703357731923e-06 [tensor(0.1383), tensor(-0.0350), tensor(0.0715), tensor(0.0389), tensor(0.0120), tensor([36.0573])]\n",
      "370 8.10161691333633e-06 [tensor(0.1381), tensor(-0.0348), tensor(0.0719), tensor(0.0381), tensor(0.0121), tensor([35.6846])]\n",
      "380 7.33875504010939e-06 [tensor(0.1380), tensor(-0.0347), tensor(0.0723), tensor(0.0373), tensor(0.0123), tensor([35.3207])]\n",
      "390 6.623666195082478e-06 [tensor(0.1378), tensor(-0.0347), tensor(0.0727), tensor(0.0365), tensor(0.0125), tensor([34.9669])]\n",
      "400 5.954243533778936e-06 [tensor(0.1377), tensor(-0.0347), tensor(0.0731), tensor(0.0357), tensor(0.0127), tensor([34.6238])]\n",
      "410 5.328742645360762e-06 [tensor(0.1376), tensor(-0.0348), tensor(0.0735), tensor(0.0349), tensor(0.0128), tensor([34.2922])]\n",
      "420 4.74576927445014e-06 [tensor(0.1374), tensor(-0.0349), tensor(0.0739), tensor(0.0341), tensor(0.0130), tensor([33.9725])]\n",
      "430 4.204189281153958e-06 [tensor(0.1373), tensor(-0.0351), tensor(0.0743), tensor(0.0333), tensor(0.0132), tensor([33.6651])]\n",
      "440 3.7030754356237594e-06 [tensor(0.1372), tensor(-0.0352), tensor(0.0746), tensor(0.0325), tensor(0.0134), tensor([33.3700])]\n",
      "450 3.2416076010122197e-06 [tensor(0.1371), tensor(-0.0355), tensor(0.0750), tensor(0.0317), tensor(0.0136), tensor([33.0875])]\n",
      "460 2.8189995191496564e-06 [tensor(0.1370), tensor(-0.0357), tensor(0.0753), tensor(0.0310), tensor(0.0139), tensor([32.8174])]\n",
      "470 2.4344185476365965e-06 [tensor(0.1369), tensor(-0.0360), tensor(0.0756), tensor(0.0302), tensor(0.0141), tensor([32.5596])]\n",
      "480 2.0868876617896603e-06 [tensor(0.1368), tensor(-0.0363), tensor(0.0759), tensor(0.0295), tensor(0.0143), tensor([32.3141])]\n",
      "490 1.775231112333131e-06 [tensor(0.1366), tensor(-0.0366), tensor(0.0762), tensor(0.0288), tensor(0.0146), tensor([32.0808])]\n",
      "500 1.4980768128225463e-06 [tensor(0.1365), tensor(-0.0369), tensor(0.0765), tensor(0.0281), tensor(0.0148), tensor([31.8595])]\n",
      "510 1.253784830623772e-06 [tensor(0.1364), tensor(-0.0372), tensor(0.0767), tensor(0.0274), tensor(0.0150), tensor([31.6503])]\n",
      "520 1.0404833119537216e-06 [tensor(0.1363), tensor(-0.0375), tensor(0.0770), tensor(0.0268), tensor(0.0153), tensor([31.4530])]\n",
      "530 8.560908213439689e-07 [tensor(0.1363), tensor(-0.0377), tensor(0.0772), tensor(0.0262), tensor(0.0156), tensor([31.2679])]\n",
      "540 6.983449907238537e-07 [tensor(0.1362), tensor(-0.0380), tensor(0.0774), tensor(0.0256), tensor(0.0158), tensor([31.0949])]\n",
      "550 5.648510068567703e-07 [tensor(0.1361), tensor(-0.0383), tensor(0.0776), tensor(0.0251), tensor(0.0161), tensor([30.9343])]\n",
      "560 4.53145929668608e-07 [tensor(0.1360), tensor(-0.0385), tensor(0.0778), tensor(0.0246), tensor(0.0163), tensor([30.7860])]\n",
      "570 3.6075459775020136e-07 [tensor(0.1359), tensor(-0.0387), tensor(0.0780), tensor(0.0241), tensor(0.0166), tensor([30.6504])]\n",
      "580 2.852491149951675e-07 [tensor(0.1358), tensor(-0.0389), tensor(0.0781), tensor(0.0237), tensor(0.0168), tensor([30.5274])]\n",
      "590 2.2430451451782574e-07 [tensor(0.1358), tensor(-0.0391), tensor(0.0783), tensor(0.0233), tensor(0.0171), tensor([30.4170])]\n",
      "600 1.7572824617673177e-07 [tensor(0.1357), tensor(-0.0393), tensor(0.0784), tensor(0.0229), tensor(0.0173), tensor([30.3192])]\n"
     ]
    }
   ],
   "source": [
    "optimizer_time = optim.RMSprop([{'params': [ihd_time.b1, ihd_time.b2, ihd_time.g, ihd_time.nu, ihd_time.l]},\n",
    "                                {'params': ihd_time.time, 'lr' : 1.}], lr=1e-3)\n",
    "criterion = nn.MSELoss()\n",
    "\n",
    "best_loss, best_parms = ihd_fit.trainig(ihd_time, init=true_init, t=t, optimizer=optimizer_time,\n",
    "                                        criterion=criterion,niters=600,data=y_synt)"
   ]
  },
  {
   "cell_type": "code",
   "execution_count": 50,
   "metadata": {},
   "outputs": [],
   "source": [
    "ihd_inf = ihd_fit.get_best_model(best_parms)"
   ]
  },
  {
   "cell_type": "code",
   "execution_count": 51,
   "metadata": {},
   "outputs": [],
   "source": [
    "y_inf = ihd_fit.predic_ode(ihd_inf, true_init,t)"
   ]
  },
  {
   "cell_type": "code",
   "execution_count": 52,
   "metadata": {},
   "outputs": [
    {
     "data": {
      "text/plain": [
       "[<matplotlib.lines.Line2D at 0x7fc5a9919550>]"
      ]
     },
     "execution_count": 52,
     "metadata": {},
     "output_type": "execute_result"
    },
    {
     "data": {
      "image/png": "[encoded data removed]",
      "text/plain": [
       "<Figure size 432x288 with 1 Axes>"
      ]
     },
     "metadata": {
      "needs_background": "light"
     },
     "output_type": "display_data"
    }
   ],
   "source": [
    "plt.plot(y_inf[:,0], 'b')\n",
    "plt.plot(y_synt[:,0], 'b--')\n",
    "plt.plot(y_inf[:,1], 'g')\n",
    "plt.plot(y_synt[:,1], 'g--')\n",
    "plt.plot(y_inf[:,2], 'r')\n",
    "plt.plot(y_synt[:,2], 'r--')"
   ]
  },
  {
   "cell_type": "markdown",
   "metadata": {},
   "source": [
    "Infected = Blue, Hospital = green, Deaths = red; dashed = true, plain = estimated"
   ]
  },
  {
   "cell_type": "code",
   "execution_count": 53,
   "metadata": {},
   "outputs": [
    {
     "name": "stdout",
     "output_type": "stream",
     "text": [
      "true:  0.10000000149011612 evaluated:  0.13568738102912903\n",
      "true:  -0.03999999910593033 evaluated:  -0.039264485239982605\n",
      "true:  0.05000000074505806 evaluated:  0.0784379169344902\n",
      "true:  0.014999999664723873 evaluated:  0.022902600467205048\n",
      "true:  0.019999999552965164 evaluated:  0.01730191893875599\n",
      "true:  30.0 evaluated:  30.319229125976562\n"
     ]
    }
   ],
   "source": [
    "for i,p in enumerate(best_parms):\n",
    "    try: \n",
    "        print('true: ', parms[i].item(), 'evaluated: ', p.data.item())\n",
    "    except:\n",
    "        print('true: ', time.item(), 'evaluated: ', p.data.item())"
   ]
  },
  {
   "cell_type": "code",
   "execution_count": null,
   "metadata": {},
   "outputs": [],
   "source": []
  }
 ],
 "metadata": {
  "kernelspec": {
   "display_name": "torchdiffeq",
   "language": "python",
   "name": "torchdiffeq"
  },
  "language_info": {
   "codemirror_mode": {
    "name": "ipython",
    "version": 3
   },
   "file_extension": ".py",
   "mimetype": "text/x-python",
   "name": "python",
   "nbconvert_exporter": "python",
   "pygments_lexer": "ipython3",
   "version": "3.6.9"
  }
 },
 "nbformat": 4,
 "nbformat_minor": 2
}
