{
 "cells": [
  {
   "cell_type": "markdown",
   "metadata": {},
   "source": [
    "# 1. Inference on Synthetic data\n",
    "\n",
    "Author: [Marc Lelarge](https://www.di.ens.fr/~lelarge/)\n",
    "\n",
    "Date: 04/05\n",
    "\n",
    "In this notebook, we test our approach on synthetic data.\n",
    "\n",
    "The problem can be described as follows: we are given a familly of ODEs $y'=h_\\theta(y,t)$, where the function $h$ is parametrized by the parameter $\\theta$ and a trajectory $z$, the problem is to find the best value of $\\theta$ such that $z'\\approx h_{\\theta}(z,t)$. In order to find the value of $\\theta$, we follow an optimization approach using backpropagation through an ODE solver based on the tool developed in [Neural Ordinary Differential Equations](https://arxiv.org/abs/1806.07366). Namely, for a distance function $D$ on $\\mathbb{R}^d$, we define $L = D(y_\\theta -z)$ where $y_\\theta$ is the solution of the ODE $y'=h_{\\theta}(y,t)$ and we minimize the loss $L$ with respect to $\\theta$ with SGD.\n",
    "\n",
    "Here, to test this approach, we choose a parameter $\\theta$ and integrate the ODE to get the trajectory $z$. We show that based on $z$, we are able to retrieve the parameter $\\theta$."
   ]
  },
  {
   "cell_type": "code",
   "execution_count": 37,
   "metadata": {},
   "outputs": [
    {
     "name": "stdout",
     "output_type": "stream",
     "text": [
      "The autoreload extension is already loaded. To reload it, use:\n",
      "  %reload_ext autoreload\n"
     ]
    }
   ],
   "source": [
    "%load_ext autoreload\n",
    "%autoreload 2\n",
    "%matplotlib inline\n",
    "import matplotlib.pyplot as plt\n",
    "import torch\n",
    "import torch.nn as nn\n",
    "import torch.optim as optim\n",
    "torch.manual_seed(0);"
   ]
  },
  {
   "cell_type": "markdown",
   "metadata": {},
   "source": [
    "## a. the IHD Model \n",
    "\n",
    "We propose a simple version of the SIR Model at the start of the epidemics. In this case, all the population is susceptible.\n",
    "\n",
    "The standard SIR model is given by the equations:\n",
    "\\begin{eqnarray}\n",
    "\\dot{S}(t) &=& -\\beta S(t) I(t)\\\\\n",
    "\\dot{I}(t) &=& \\beta S(t) I(t) - \\gamma I(t) -\\nu I(t)\\\\\n",
    "\\dot{R}(t) &=& \\gamma I(t)\\\\\n",
    "\\dot{D}(t) &=& \\nu I(t)\n",
    "\\end{eqnarray}\n",
    "where $S(t)$, $I(t)$, $R(t)$ and $D(t)$ are, respectively, the fractions of susceptible, infectious, recovered and deceased individuals at time $t$. $\\beta$ is the contagion rate, $\\gamma$ is the recovery rate and $\\nu$ is the death rate.\n",
    "\n",
    "In the early stage of the epidemics, we make the approximation $S(t) \\approx 1$ so that the second equation simplifies to $\\dot{I}(t) = \\beta I(t) - \\gamma I(t) -\\nu I(t)$.\n",
    "\n",
    "We make two other modifications:\n",
    "- the contagion rate will depend on time $\\beta(t)$\n",
    "- we add a sub-category of the population $H(t)$, the numbers of individuals in hospital at time $t$. We assume that all deceased individuals are first in a hospital.\n",
    "\n",
    "We obtain the IHD model given by the equations:\n",
    "\\begin{eqnarray}\n",
    "\\dot{I}(t) &=& \\beta(t) I(t) -\\gamma I(t)-\\nu I(t)\\\\\n",
    "\\dot{R}(t) &=& \\gamma I(t)\\\\\n",
    "\\dot{H}(t) &=& \\nu I(t) - \\gamma H(t) - \\lambda H(t)\\\\\n",
    "\\dot{D}(t) &=& \\lambda H(t)\n",
    "\\end{eqnarray}\n",
    "note that the recovered individuals can be ignored to compute $I(t),H(t)$ and $D(t)$.\n",
    "\n",
    "In practice, we will prametrize the function $\\beta(t)$ as follows:\n",
    "$$\\beta(t) = \\beta_1 +\\delta \\sigma(t-\\tau),$$\n",
    "where $\\sigma(.)$ is the sigmoid function.\n",
    "\n",
    "The motivation for using this specific function is to understand the impact of the lock-down on the epidemics. We expect the contagious rate to decrease under lock-down so that $\\tau$ should be interpreted as the time when social distancing is implemented resulting in a drop in the contagious rate."
   ]
  },
  {
   "cell_type": "code",
   "execution_count": 2,
   "metadata": {},
   "outputs": [],
   "source": [
    "from model_epidemio import ihd_fit"
   ]
  },
  {
   "cell_type": "code",
   "execution_count": 47,
   "metadata": {},
   "outputs": [],
   "source": [
    "size = 101\n",
    "t = torch.linspace(0., size-1, size)\n",
    "true_init = torch.tensor([[0.01,0., 0.]])\n",
    "name_parms = ['beta', 'delta','gamma','nu','lambda']\n",
    "parms = torch.tensor([0.1,-0.04,0.05,0.015,0.02])\n",
    "time = torch.tensor([30.])\n",
    "ihd_synt = ihd_fit.IHD_model(parms,time)"
   ]
  },
  {
   "cell_type": "markdown",
   "metadata": {},
   "source": [
    "$\\beta_1=0.1, \\delta = -0.04, \\gamma = 0.05, \\nu = 0.015, \\lambda = 0.02$\n",
    "\n",
    "$\\tau = 30$\n",
    "\n",
    "$I(0)=0.01, H(0)=0, D(0)=0$"
   ]
  },
  {
   "cell_type": "code",
   "execution_count": 4,
   "metadata": {},
   "outputs": [],
   "source": [
    "y_synt = ihd_fit.predic_ode(ihd_synt, true_init,t)"
   ]
  },
  {
   "cell_type": "code",
   "execution_count": 17,
   "metadata": {},
   "outputs": [
    {
     "data": {
      "image/png": "[encoded data removed]",
      "text/plain": [
       "<Figure size 432x288 with 1 Axes>"
      ]
     },
     "metadata": {
      "needs_background": "light"
     },
     "output_type": "display_data"
    }
   ],
   "source": [
    "plt.plot(t,y_synt[:,0], 'b', label= 'Infected')\n",
    "plt.plot(t,y_synt[:,1], 'g', label= 'Hospital')\n",
    "plt.plot(t,y_synt[:,2], 'r', label= 'Deceased')\n",
    "plt.ylabel('fraction pop')\n",
    "plt.xlabel('time')\n",
    "plt.legend();"
   ]
  },
  {
   "cell_type": "markdown",
   "metadata": {},
   "source": [
    "Integration of the ODE: Infected = Blue, Hospital = green, Deaths = red\n",
    "\n",
    "These trajectories are obtained by integrating the IHD model. To a 'non-specialist', these curves seem plausible: we observe the typical exponential growth at the start of the epidemics and when the R0 goes below one (around time 30), the number of Infected starts to decrease, as well as the number of individuals in hospital."
   ]
  },
  {
   "cell_type": "markdown",
   "metadata": {},
   "source": [
    "## b. Inference problem\n",
    "\n",
    "Now given the trajectory depicted above, we try to recover the parameters of the model."
   ]
  },
  {
   "cell_type": "code",
   "execution_count": 28,
   "metadata": {},
   "outputs": [],
   "source": [
    "parms_fit = torch.tensor([0.15,-0.05,0.05,0.05,0.05])\n",
    "time_fit = torch.tensor([50.])\n",
    "ihd_time = ihd_fit.IHD_fit_time(parms_fit,time_fit)"
   ]
  },
  {
   "cell_type": "code",
   "execution_count": 29,
   "metadata": {},
   "outputs": [
    {
     "name": "stdout",
     "output_type": "stream",
     "text": [
      "10 9.737190703162923e-05 [tensor(0.1399), tensor(-0.0597), tensor(0.0603), tensor(0.0598), tensor(0.0354), tensor([39.9936])]\n",
      "20 8.696584700373933e-05 [tensor(0.1398), tensor(-0.0593), tensor(0.0605), tensor(0.0594), tensor(0.0305), tensor([40.1213])]\n",
      "30 7.744281174382195e-05 [tensor(0.1399), tensor(-0.0588), tensor(0.0606), tensor(0.0590), tensor(0.0258), tensor([40.3663])]\n",
      "40 6.874083919683471e-05 [tensor(0.1400), tensor(-0.0582), tensor(0.0606), tensor(0.0584), tensor(0.0215), tensor([40.7014])]\n",
      "50 6.11956711509265e-05 [tensor(0.1403), tensor(-0.0576), tensor(0.0605), tensor(0.0579), tensor(0.0177), tensor([41.0923])]\n",
      "60 5.525864617084153e-05 [tensor(0.1405), tensor(-0.0569), tensor(0.0604), tensor(0.0573), tensor(0.0146), tensor([41.4944])]\n",
      "70 5.1089285989291966e-05 [tensor(0.1407), tensor(-0.0561), tensor(0.0604), tensor(0.0567), tensor(0.0124), tensor([41.8583])]\n",
      "80 4.835083018406294e-05 [tensor(0.1409), tensor(-0.0554), tensor(0.0604), tensor(0.0561), tensor(0.0111), tensor([42.1454])]\n",
      "90 4.645944500225596e-05 [tensor(0.1410), tensor(-0.0546), tensor(0.0605), tensor(0.0556), tensor(0.0103), tensor([42.3405])]\n",
      "100 4.493999222177081e-05 [tensor(0.1411), tensor(-0.0539), tensor(0.0606), tensor(0.0551), tensor(0.0100), tensor([42.4509])]\n",
      "110 4.353380063548684e-05 [tensor(0.1411), tensor(-0.0531), tensor(0.0609), tensor(0.0546), tensor(0.0099), tensor([42.4949])]\n",
      "120 4.213315332890488e-05 [tensor(0.1411), tensor(-0.0524), tensor(0.0612), tensor(0.0542), tensor(0.0098), tensor([42.4910])]\n",
      "130 4.070205977768637e-05 [tensor(0.1410), tensor(-0.0516), tensor(0.0615), tensor(0.0537), tensor(0.0098), tensor([42.4527])]\n",
      "140 3.923166514141485e-05 [tensor(0.1410), tensor(-0.0508), tensor(0.0618), tensor(0.0532), tensor(0.0099), tensor([42.3880])]\n",
      "150 3.772225682041608e-05 [tensor(0.1409), tensor(-0.0499), tensor(0.0621), tensor(0.0527), tensor(0.0099), tensor([42.3008])]\n",
      "160 3.6177196307107806e-05 [tensor(0.1408), tensor(-0.0491), tensor(0.0625), tensor(0.0522), tensor(0.0100), tensor([42.1924])]\n",
      "170 3.46015440300107e-05 [tensor(0.1407), tensor(-0.0482), tensor(0.0629), tensor(0.0517), tensor(0.0100), tensor([42.0625])]\n",
      "180 3.300148819107562e-05 [tensor(0.1407), tensor(-0.0473), tensor(0.0633), tensor(0.0512), tensor(0.0101), tensor([41.9104])]\n",
      "190 3.138431566185318e-05 [tensor(0.1406), tensor(-0.0464), tensor(0.0637), tensor(0.0506), tensor(0.0101), tensor([41.7354])]\n",
      "200 2.975827010232024e-05 [tensor(0.1405), tensor(-0.0455), tensor(0.0641), tensor(0.0500), tensor(0.0102), tensor([41.5368])]\n",
      "210 2.813241553667467e-05 [tensor(0.1404), tensor(-0.0446), tensor(0.0645), tensor(0.0494), tensor(0.0103), tensor([41.3142])]\n",
      "220 2.6516374418861233e-05 [tensor(0.1402), tensor(-0.0437), tensor(0.0649), tensor(0.0488), tensor(0.0103), tensor([41.0676])]\n",
      "230 2.492002931830939e-05 [tensor(0.1401), tensor(-0.0428), tensor(0.0654), tensor(0.0482), tensor(0.0104), tensor([40.7976])]\n",
      "240 2.3353166398010217e-05 [tensor(0.1400), tensor(-0.0419), tensor(0.0658), tensor(0.0475), tensor(0.0105), tensor([40.5051])]\n",
      "250 2.1824964278494008e-05 [tensor(0.1399), tensor(-0.0410), tensor(0.0663), tensor(0.0469), tensor(0.0106), tensor([40.1916])]\n",
      "260 2.034372664638795e-05 [tensor(0.1397), tensor(-0.0402), tensor(0.0668), tensor(0.0462), tensor(0.0107), tensor([39.8591])]\n",
      "270 1.891644933493808e-05 [tensor(0.1396), tensor(-0.0394), tensor(0.0672), tensor(0.0455), tensor(0.0108), tensor([39.5097])]\n",
      "280 1.7548707546666265e-05 [tensor(0.1395), tensor(-0.0387), tensor(0.0677), tensor(0.0448), tensor(0.0109), tensor([39.1462])]\n",
      "290 1.6244313883362338e-05 [tensor(0.1393), tensor(-0.0380), tensor(0.0682), tensor(0.0441), tensor(0.0110), tensor([38.7712])]\n",
      "300 1.5005545719759539e-05 [tensor(0.1392), tensor(-0.0374), tensor(0.0687), tensor(0.0434), tensor(0.0111), tensor([38.3878])]\n",
      "310 1.3833074262947775e-05 [tensor(0.1390), tensor(-0.0368), tensor(0.0691), tensor(0.0427), tensor(0.0113), tensor([37.9986])]\n",
      "320 1.272632107429672e-05 [tensor(0.1389), tensor(-0.0363), tensor(0.0696), tensor(0.0419), tensor(0.0114), tensor([37.6066])]\n",
      "330 1.1683681805152446e-05 [tensor(0.1387), tensor(-0.0359), tensor(0.0701), tensor(0.0412), tensor(0.0115), tensor([37.2142])]\n",
      "340 1.0702762665459886e-05 [tensor(0.1386), tensor(-0.0355), tensor(0.0706), tensor(0.0404), tensor(0.0117), tensor([36.8238])]\n",
      "350 9.780757864064071e-06 [tensor(0.1384), tensor(-0.0352), tensor(0.0710), tensor(0.0396), tensor(0.0118), tensor([36.4376])]\n",
      "360 8.914703357731923e-06 [tensor(0.1383), tensor(-0.0350), tensor(0.0715), tensor(0.0389), tensor(0.0120), tensor([36.0573])]\n",
      "370 8.10161691333633e-06 [tensor(0.1381), tensor(-0.0348), tensor(0.0719), tensor(0.0381), tensor(0.0121), tensor([35.6846])]\n",
      "380 7.33875504010939e-06 [tensor(0.1380), tensor(-0.0347), tensor(0.0723), tensor(0.0373), tensor(0.0123), tensor([35.3207])]\n",
      "390 6.623666195082478e-06 [tensor(0.1378), tensor(-0.0347), tensor(0.0727), tensor(0.0365), tensor(0.0125), tensor([34.9669])]\n",
      "400 5.954243533778936e-06 [tensor(0.1377), tensor(-0.0347), tensor(0.0731), tensor(0.0357), tensor(0.0127), tensor([34.6238])]\n",
      "410 5.328742645360762e-06 [tensor(0.1376), tensor(-0.0348), tensor(0.0735), tensor(0.0349), tensor(0.0128), tensor([34.2922])]\n",
      "420 4.74576927445014e-06 [tensor(0.1374), tensor(-0.0349), tensor(0.0739), tensor(0.0341), tensor(0.0130), tensor([33.9725])]\n",
      "430 4.204189281153958e-06 [tensor(0.1373), tensor(-0.0351), tensor(0.0743), tensor(0.0333), tensor(0.0132), tensor([33.6651])]\n",
      "440 3.7030754356237594e-06 [tensor(0.1372), tensor(-0.0352), tensor(0.0746), tensor(0.0325), tensor(0.0134), tensor([33.3700])]\n",
      "450 3.2416076010122197e-06 [tensor(0.1371), tensor(-0.0355), tensor(0.0750), tensor(0.0317), tensor(0.0136), tensor([33.0875])]\n",
      "460 2.8189995191496564e-06 [tensor(0.1370), tensor(-0.0357), tensor(0.0753), tensor(0.0310), tensor(0.0139), tensor([32.8174])]\n",
      "470 2.4344185476365965e-06 [tensor(0.1369), tensor(-0.0360), tensor(0.0756), tensor(0.0302), tensor(0.0141), tensor([32.5596])]\n",
      "480 2.0868876617896603e-06 [tensor(0.1368), tensor(-0.0363), tensor(0.0759), tensor(0.0295), tensor(0.0143), tensor([32.3141])]\n",
      "490 1.775231112333131e-06 [tensor(0.1366), tensor(-0.0366), tensor(0.0762), tensor(0.0288), tensor(0.0146), tensor([32.0808])]\n",
      "500 1.4980768128225463e-06 [tensor(0.1365), tensor(-0.0369), tensor(0.0765), tensor(0.0281), tensor(0.0148), tensor([31.8595])]\n",
      "510 1.253784830623772e-06 [tensor(0.1364), tensor(-0.0372), tensor(0.0767), tensor(0.0274), tensor(0.0150), tensor([31.6503])]\n",
      "520 1.0404833119537216e-06 [tensor(0.1363), tensor(-0.0375), tensor(0.0770), tensor(0.0268), tensor(0.0153), tensor([31.4530])]\n",
      "530 8.560908213439689e-07 [tensor(0.1363), tensor(-0.0377), tensor(0.0772), tensor(0.0262), tensor(0.0156), tensor([31.2679])]\n",
      "540 6.983449907238537e-07 [tensor(0.1362), tensor(-0.0380), tensor(0.0774), tensor(0.0256), tensor(0.0158), tensor([31.0949])]\n",
      "550 5.648510068567703e-07 [tensor(0.1361), tensor(-0.0383), tensor(0.0776), tensor(0.0251), tensor(0.0161), tensor([30.9343])]\n",
      "560 4.53145929668608e-07 [tensor(0.1360), tensor(-0.0385), tensor(0.0778), tensor(0.0246), tensor(0.0163), tensor([30.7860])]\n",
      "570 3.6075459775020136e-07 [tensor(0.1359), tensor(-0.0387), tensor(0.0780), tensor(0.0241), tensor(0.0166), tensor([30.6504])]\n",
      "580 2.852491149951675e-07 [tensor(0.1358), tensor(-0.0389), tensor(0.0781), tensor(0.0237), tensor(0.0168), tensor([30.5274])]\n",
      "590 2.2430451451782574e-07 [tensor(0.1358), tensor(-0.0391), tensor(0.0783), tensor(0.0233), tensor(0.0171), tensor([30.4170])]\n",
      "600 1.7572824617673177e-07 [tensor(0.1357), tensor(-0.0393), tensor(0.0784), tensor(0.0229), tensor(0.0173), tensor([30.3192])]\n"
     ]
    }
   ],
   "source": [
    "optimizer_time = optim.RMSprop([{'params': [ihd_time.b1, ihd_time.b2, ihd_time.g, ihd_time.nu, ihd_time.l]},\n",
    "                                {'params': ihd_time.time, 'lr' : 1.}], lr=1e-3)\n",
    "criterion = nn.MSELoss()\n",
    "\n",
    "best_loss, best_parms = ihd_fit.trainig(ihd_time, init=true_init, t=t, optimizer=optimizer_time,\n",
    "                                        criterion=criterion,niters=600,data=y_synt)"
   ]
  },
  {
   "cell_type": "code",
   "execution_count": 33,
   "metadata": {},
   "outputs": [],
   "source": [
    "ihd_inf = ihd_fit.get_best_model(best_parms)"
   ]
  },
  {
   "cell_type": "code",
   "execution_count": 34,
   "metadata": {},
   "outputs": [],
   "source": [
    "y_inf = ihd_fit.predic_ode(ihd_inf, true_init,t)"
   ]
  },
  {
   "cell_type": "code",
   "execution_count": 35,
   "metadata": {},
   "outputs": [
    {
     "data": {
      "image/png": "[encoded data removed]",
      "text/plain": [
       "<Figure size 432x288 with 1 Axes>"
      ]
     },
     "metadata": {
      "needs_background": "light"
     },
     "output_type": "display_data"
    }
   ],
   "source": [
    "plt.plot(y_inf[:,0], 'b', label='Est. I')\n",
    "plt.plot(y_synt[:,0], 'b--', label='I')\n",
    "plt.plot(y_inf[:,1], 'g', label='Est. H')\n",
    "plt.plot(y_synt[:,1], 'g--', label='H')\n",
    "plt.plot(y_inf[:,2], 'r', label='Est. D')\n",
    "plt.plot(y_synt[:,2], 'r--', label='D')\n",
    "plt.ylabel('fraction pop')\n",
    "plt.xlabel('time')\n",
    "plt.legend();"
   ]
  },
  {
   "cell_type": "markdown",
   "metadata": {},
   "source": [
    "Infected = Blue, Hospital = green, Deaths = red; dashed = true, plain = estimated.\n",
    "\n",
    "We see that we have a good fit of the trajectories. Below, we look at the estimation of the parameters directly."
   ]
  },
  {
   "cell_type": "code",
   "execution_count": 49,
   "metadata": {},
   "outputs": [
    {
     "name": "stdout",
     "output_type": "stream",
     "text": [
      "beta ,true:  0.10000000149011612 ,evaluated:  0.13568738102912903\n",
      "delta ,true:  -0.03999999910593033 ,evaluated:  -0.039264485239982605\n",
      "gamma ,true:  0.05000000074505806 ,evaluated:  0.0784379169344902\n",
      "nu ,true:  0.014999999664723873 ,evaluated:  0.022902600467205048\n",
      "lambda ,true:  0.019999999552965164 ,evaluated:  0.01730191893875599\n",
      "time ,true:  30.0 ,evaluated:  30.319229125976562\n"
     ]
    }
   ],
   "source": [
    "for i,p in enumerate(best_parms):\n",
    "    try: \n",
    "        print(name_parms[i],',true: ', parms[i].item(), ',evaluated: ', p.data.item())\n",
    "    except:\n",
    "        print('time',',true: ', time.item(), ',evaluated: ', p.data.item())"
   ]
  },
  {
   "cell_type": "markdown",
   "metadata": {},
   "source": [
    "We see that the switching time is well estimated. The contagious and recovery rates $\\gamma$ are overestimated."
   ]
  },
  {
   "cell_type": "markdown",
   "metadata": {},
   "source": [
    "## c. Inference problem with missing data\n",
    "\n",
    "In practice, we will not have access to the whole trajectory. \n",
    "\n",
    "\n",
    "### c.1 missing hospital numbers\n",
    "\n",
    "As an example, we consider here the case where the number of individuals in the hospital is not given. Hence, we have only access to the curves $I(t)$ and $D(t)$ but not $H(t)$.\n",
    "\n",
    "This case fits nicely to our framework and we only need to modify the loss function in the optimization problem."
   ]
  },
  {
   "cell_type": "code",
   "execution_count": 39,
   "metadata": {},
   "outputs": [],
   "source": [
    "parms_fit = torch.tensor([0.15,-0.05,0.05,0.05,0.05])\n",
    "time_fit = torch.tensor([50.])\n",
    "ihd_time = ihd_fit.IHD_fit_time(parms_fit,time_fit)"
   ]
  },
  {
   "cell_type": "code",
   "execution_count": 42,
   "metadata": {},
   "outputs": [
    {
     "name": "stdout",
     "output_type": "stream",
     "text": [
      "10 0.0002807293785735965 [tensor(0.1399), tensor(-0.0597), tensor(0.0603), tensor(0.0597), tensor(0.0360), tensor([40.0512])]\n",
      "20 0.0002490270999260247 [tensor(0.1399), tensor(-0.0592), tensor(0.0604), tensor(0.0593), tensor(0.0316), tensor([40.2564])]\n",
      "30 0.0002157771959900856 [tensor(0.1401), tensor(-0.0586), tensor(0.0604), tensor(0.0587), tensor(0.0270), tensor([40.6065])]\n",
      "40 0.0001792468101484701 [tensor(0.1404), tensor(-0.0579), tensor(0.0603), tensor(0.0581), tensor(0.0225), tensor([41.0943])]\n",
      "50 0.00013897537428420037 [tensor(0.1408), tensor(-0.0571), tensor(0.0600), tensor(0.0574), tensor(0.0179), tensor([41.7066])]\n",
      "60 9.719401714392006e-05 [tensor(0.1413), tensor(-0.0561), tensor(0.0596), tensor(0.0566), tensor(0.0136), tensor([42.4038])]\n",
      "70 6.0567286709556356e-05 [tensor(0.1419), tensor(-0.0550), tensor(0.0591), tensor(0.0558), tensor(0.0099), tensor([43.0911])]\n",
      "80 3.730684329639189e-05 [tensor(0.1424), tensor(-0.0539), tensor(0.0586), tensor(0.0551), tensor(0.0072), tensor([43.6189])]\n",
      "90 2.7690963179338723e-05 [tensor(0.1427), tensor(-0.0530), tensor(0.0583), tensor(0.0547), tensor(0.0058), tensor([43.8802])]\n",
      "100 2.4478464183630422e-05 [tensor(0.1429), tensor(-0.0521), tensor(0.0582), tensor(0.0546), tensor(0.0052), tensor([43.9063])]\n",
      "110 2.2791851733927615e-05 [tensor(0.1429), tensor(-0.0514), tensor(0.0581), tensor(0.0545), tensor(0.0050), tensor([43.7974])]\n",
      "120 2.1329655282897875e-05 [tensor(0.1429), tensor(-0.0506), tensor(0.0581), tensor(0.0545), tensor(0.0049), tensor([43.6256])]\n",
      "130 1.9898914615623653e-05 [tensor(0.1429), tensor(-0.0499), tensor(0.0581), tensor(0.0545), tensor(0.0049), tensor([43.4235])]\n",
      "140 1.8485257896827534e-05 [tensor(0.1429), tensor(-0.0491), tensor(0.0581), tensor(0.0545), tensor(0.0049), tensor([43.2023])]\n",
      "150 1.7094776922021993e-05 [tensor(0.1429), tensor(-0.0484), tensor(0.0582), tensor(0.0545), tensor(0.0049), tensor([42.9657])]\n",
      "160 1.573582449054811e-05 [tensor(0.1429), tensor(-0.0476), tensor(0.0582), tensor(0.0545), tensor(0.0049), tensor([42.7148])]\n",
      "170 1.4416850717680063e-05 [tensor(0.1429), tensor(-0.0469), tensor(0.0582), tensor(0.0546), tensor(0.0049), tensor([42.4500])]\n",
      "180 1.3145928278390784e-05 [tensor(0.1429), tensor(-0.0461), tensor(0.0582), tensor(0.0546), tensor(0.0050), tensor([42.1720])]\n",
      "190 1.1930872460652608e-05 [tensor(0.1429), tensor(-0.0454), tensor(0.0582), tensor(0.0546), tensor(0.0050), tensor([41.8814])]\n",
      "200 1.077845627150964e-05 [tensor(0.1428), tensor(-0.0447), tensor(0.0582), tensor(0.0546), tensor(0.0050), tensor([41.5789])]\n",
      "210 9.694515028968453e-06 [tensor(0.1428), tensor(-0.0440), tensor(0.0582), tensor(0.0546), tensor(0.0050), tensor([41.2657])]\n",
      "220 8.683632586325984e-06 [tensor(0.1428), tensor(-0.0433), tensor(0.0582), tensor(0.0546), tensor(0.0050), tensor([40.9429])]\n",
      "230 7.74891577748349e-06 [tensor(0.1428), tensor(-0.0426), tensor(0.0583), tensor(0.0546), tensor(0.0050), tensor([40.6118])]\n",
      "240 6.892008514114423e-06 [tensor(0.1428), tensor(-0.0420), tensor(0.0583), tensor(0.0547), tensor(0.0050), tensor([40.2738])]\n",
      "250 6.1130913309170865e-06 [tensor(0.1428), tensor(-0.0414), tensor(0.0583), tensor(0.0547), tensor(0.0050), tensor([39.9304])]\n",
      "260 5.41087138117291e-06 [tensor(0.1428), tensor(-0.0408), tensor(0.0583), tensor(0.0547), tensor(0.0051), tensor([39.5831])]\n",
      "270 4.782710675499402e-06 [tensor(0.1428), tensor(-0.0403), tensor(0.0583), tensor(0.0547), tensor(0.0051), tensor([39.2334])]\n",
      "280 4.224954409437487e-06 [tensor(0.1428), tensor(-0.0398), tensor(0.0583), tensor(0.0547), tensor(0.0051), tensor([38.8828])]\n",
      "290 3.732923460120219e-06 [tensor(0.1428), tensor(-0.0393), tensor(0.0583), tensor(0.0547), tensor(0.0051), tensor([38.5327])]\n",
      "300 3.3013509437296307e-06 [tensor(0.1428), tensor(-0.0389), tensor(0.0583), tensor(0.0547), tensor(0.0051), tensor([38.1845])]\n",
      "310 2.9245820769574493e-06 [tensor(0.1428), tensor(-0.0385), tensor(0.0583), tensor(0.0547), tensor(0.0051), tensor([37.8393])]\n",
      "320 2.59668672697444e-06 [tensor(0.1428), tensor(-0.0382), tensor(0.0582), tensor(0.0546), tensor(0.0051), tensor([37.4983])]\n",
      "330 2.3119287106965203e-06 [tensor(0.1428), tensor(-0.0379), tensor(0.0582), tensor(0.0546), tensor(0.0052), tensor([37.1624])]\n",
      "340 2.0646086795750307e-06 [tensor(0.1429), tensor(-0.0376), tensor(0.0582), tensor(0.0546), tensor(0.0052), tensor([36.8326])]\n",
      "350 1.8494388314138632e-06 [tensor(0.1429), tensor(-0.0374), tensor(0.0582), tensor(0.0546), tensor(0.0052), tensor([36.5096])]\n",
      "360 1.6615939557595993e-06 [tensor(0.1429), tensor(-0.0372), tensor(0.0582), tensor(0.0545), tensor(0.0052), tensor([36.1938])]\n",
      "370 1.4967401966714533e-06 [tensor(0.1429), tensor(-0.0371), tensor(0.0581), tensor(0.0545), tensor(0.0052), tensor([35.8859])]\n",
      "380 1.3510863254850847e-06 [tensor(0.1430), tensor(-0.0370), tensor(0.0581), tensor(0.0545), tensor(0.0052), tensor([35.5861])]\n",
      "390 1.2213822628837079e-06 [tensor(0.1430), tensor(-0.0369), tensor(0.0581), tensor(0.0544), tensor(0.0052), tensor([35.2948])]\n",
      "400 1.104926127482031e-06 [tensor(0.1430), tensor(-0.0368), tensor(0.0580), tensor(0.0544), tensor(0.0052), tensor([35.0120])]\n",
      "410 9.994843139793375e-07 [tensor(0.1431), tensor(-0.0368), tensor(0.0580), tensor(0.0543), tensor(0.0052), tensor([34.7378])]\n",
      "420 9.033089440890762e-07 [tensor(0.1431), tensor(-0.0368), tensor(0.0580), tensor(0.0543), tensor(0.0052), tensor([34.4723])]\n",
      "430 8.150151415975415e-07 [tensor(0.1432), tensor(-0.0369), tensor(0.0579), tensor(0.0542), tensor(0.0052), tensor([34.2153])]\n",
      "440 7.33548574771703e-07 [tensor(0.1432), tensor(-0.0369), tensor(0.0579), tensor(0.0542), tensor(0.0052), tensor([33.9669])]\n",
      "450 6.581531692972931e-07 [tensor(0.1433), tensor(-0.0370), tensor(0.0578), tensor(0.0541), tensor(0.0052), tensor([33.7268])]\n",
      "460 5.882719165128947e-07 [tensor(0.1433), tensor(-0.0371), tensor(0.0578), tensor(0.0540), tensor(0.0052), tensor([33.4949])]\n",
      "470 5.235058893049427e-07 [tensor(0.1434), tensor(-0.0372), tensor(0.0577), tensor(0.0540), tensor(0.0052), tensor([33.2710])]\n",
      "480 4.6359295424736047e-07 [tensor(0.1435), tensor(-0.0373), tensor(0.0577), tensor(0.0539), tensor(0.0052), tensor([33.0552])]\n",
      "490 4.083329372406297e-07 [tensor(0.1435), tensor(-0.0374), tensor(0.0576), tensor(0.0538), tensor(0.0052), tensor([32.8471])]\n",
      "500 3.575781875042594e-07 [tensor(0.1436), tensor(-0.0376), tensor(0.0576), tensor(0.0538), tensor(0.0052), tensor([32.6467])]\n",
      "510 3.1120234211812203e-07 [tensor(0.1436), tensor(-0.0377), tensor(0.0575), tensor(0.0537), tensor(0.0052), tensor([32.4540])]\n",
      "520 2.6907449068858114e-07 [tensor(0.1437), tensor(-0.0378), tensor(0.0574), tensor(0.0536), tensor(0.0052), tensor([32.2689])]\n",
      "530 2.3105157254121877e-07 [tensor(0.1437), tensor(-0.0380), tensor(0.0574), tensor(0.0536), tensor(0.0052), tensor([32.0914])]\n",
      "540 1.9697485242886614e-07 [tensor(0.1438), tensor(-0.0381), tensor(0.0573), tensor(0.0535), tensor(0.0052), tensor([31.9215])]\n",
      "550 1.6667971181050234e-07 [tensor(0.1438), tensor(-0.0383), tensor(0.0573), tensor(0.0534), tensor(0.0052), tensor([31.7594])]\n",
      "560 1.3995365577557095e-07 [tensor(0.1439), tensor(-0.0384), tensor(0.0573), tensor(0.0534), tensor(0.0052), tensor([31.6049])]\n",
      "570 1.1657070331239083e-07 [tensor(0.1439), tensor(-0.0385), tensor(0.0572), tensor(0.0533), tensor(0.0052), tensor([31.4583])]\n",
      "580 9.629905406427497e-08 [tensor(0.1440), tensor(-0.0387), tensor(0.0572), tensor(0.0533), tensor(0.0052), tensor([31.3195])]\n",
      "590 7.887918940241434e-08 [tensor(0.1440), tensor(-0.0388), tensor(0.0571), tensor(0.0532), tensor(0.0052), tensor([31.1887])]\n",
      "600 6.405336705483933e-08 [tensor(0.1441), tensor(-0.0389), tensor(0.0571), tensor(0.0532), tensor(0.0052), tensor([31.0658])]\n"
     ]
    }
   ],
   "source": [
    "optimizer_time = optim.RMSprop([{'params': [ihd_time.b1, ihd_time.b2, ihd_time.g, ihd_time.nu, ihd_time.l]},\n",
    "                                {'params': ihd_time.time, 'lr' : 1.}], lr=1e-3)\n",
    "criterion = nn.MSELoss()\n",
    "\n",
    "best_loss_partial, best_parms_partial = ihd_fit.trainig(ihd_time, init=true_init, t=t, optimizer=optimizer_time,\n",
    "                                        criterion=criterion,niters=600,data=(y_synt[:,0],y_synt[:,2]),all_data=False)"
   ]
  },
  {
   "cell_type": "code",
   "execution_count": 43,
   "metadata": {},
   "outputs": [],
   "source": [
    "ihd_inf = ihd_fit.get_best_model(best_parms_partial)\n",
    "y_inf = ihd_fit.predic_ode(ihd_inf, true_init,t)"
   ]
  },
  {
   "cell_type": "code",
   "execution_count": 44,
   "metadata": {},
   "outputs": [
    {
     "data": {
      "image/png": "[encoded data removed]",
      "text/plain": [
       "<Figure size 432x288 with 1 Axes>"
      ]
     },
     "metadata": {
      "needs_background": "light"
     },
     "output_type": "display_data"
    }
   ],
   "source": [
    "plt.plot(y_inf[:,0], 'b', label='Est. I')\n",
    "plt.plot(y_synt[:,0], 'b--', label='I')\n",
    "plt.plot(y_inf[:,1], 'g', label='Est. H')\n",
    "plt.plot(y_synt[:,1], 'g--', label='H')\n",
    "plt.plot(y_inf[:,2], 'r', label='Est. D')\n",
    "plt.plot(y_synt[:,2], 'r--', label='D')\n",
    "plt.ylabel('fraction pop')\n",
    "plt.xlabel('time')\n",
    "plt.legend();"
   ]
  },
  {
   "cell_type": "markdown",
   "metadata": {},
   "source": [
    "We see that the number of individuals in hospital cannot be estimated although the number of infected and deceased individuals match very well."
   ]
  },
  {
   "cell_type": "code",
   "execution_count": 50,
   "metadata": {},
   "outputs": [
    {
     "name": "stdout",
     "output_type": "stream",
     "text": [
      "beta ,true:  0.10000000149011612 ,evaluated:  0.1440642774105072\n",
      "delta ,true:  -0.03999999910593033 ,evaluated:  -0.03891213983297348\n",
      "gamma ,true:  0.05000000074505806 ,evaluated:  0.05708392709493637\n",
      "nu ,true:  0.014999999664723873 ,evaluated:  0.05317461118102074\n",
      "lambda ,true:  0.019999999552965164 ,evaluated:  0.005206960719078779\n",
      "time ,true:  30.0 ,evaluated:  31.065773010253906\n"
     ]
    }
   ],
   "source": [
    "for i,p in enumerate(best_parms_partial):\n",
    "    try: \n",
    "        print(name_parms[i], ',true: ', parms[i].item(), ',evaluated: ', p.data.item())\n",
    "    except:\n",
    "        print('time', ',true: ', time.item(), ',evaluated: ', p.data.item())"
   ]
  },
  {
   "cell_type": "markdown",
   "metadata": {},
   "source": [
    "### c.2 missing infected\n",
    "\n",
    "We now consider a case where the number of infected $I(t)$ is not available (for example, because the population is not tested). We only have acces to the number of individuals in hospital $H(t)$ and deceased individuals $D(t)$."
   ]
  },
  {
   "cell_type": "code",
   "execution_count": 66,
   "metadata": {},
   "outputs": [],
   "source": [
    "parms_fit = torch.tensor([0.15,-0.05,0.05,0.05,0.05])\n",
    "time_fit = torch.tensor([50.])\n",
    "ihd_time = ihd_fit.IHD_fit_time(parms_fit,time_fit)"
   ]
  },
  {
   "cell_type": "code",
   "execution_count": 67,
   "metadata": {},
   "outputs": [
    {
     "name": "stdout",
     "output_type": "stream",
     "text": [
      "10 0.00010070865391753614 [tensor(0.1388), tensor(-0.0607), tensor(0.0613), tensor(0.0609), tensor(0.0359), tensor([38.7015])]\n",
      "20 6.517423025798053e-05 [tensor(0.1379), tensor(-0.0612), tensor(0.0623), tensor(0.0614), tensor(0.0325), tensor([37.7925])]\n",
      "30 4.61968666058965e-05 [tensor(0.1373), tensor(-0.0614), tensor(0.0630), tensor(0.0618), tensor(0.0296), tensor([37.1640])]\n",
      "40 3.4617161873029545e-05 [tensor(0.1369), tensor(-0.0616), tensor(0.0636), tensor(0.0621), tensor(0.0272), tensor([36.7034])]\n",
      "50 2.703325662878342e-05 [tensor(0.1365), tensor(-0.0617), tensor(0.0640), tensor(0.0622), tensor(0.0250), tensor([36.3555])]\n",
      "60 2.1870018827030435e-05 [tensor(0.1362), tensor(-0.0618), tensor(0.0643), tensor(0.0624), tensor(0.0232), tensor([36.0887])]\n",
      "70 1.828515451052226e-05 [tensor(0.1360), tensor(-0.0619), tensor(0.0646), tensor(0.0625), tensor(0.0215), tensor([35.8829])]\n",
      "80 1.5778286979184486e-05 [tensor(0.1358), tensor(-0.0619), tensor(0.0648), tensor(0.0626), tensor(0.0201), tensor([35.7245])]\n",
      "90 1.4027164070284925e-05 [tensor(0.1356), tensor(-0.0618), tensor(0.0651), tensor(0.0626), tensor(0.0189), tensor([35.6034])]\n",
      "100 1.2811447959393263e-05 [tensor(0.1355), tensor(-0.0618), tensor(0.0652), tensor(0.0626), tensor(0.0178), tensor([35.5121])]\n",
      "110 1.1974340850429144e-05 [tensor(0.1354), tensor(-0.0618), tensor(0.0654), tensor(0.0627), tensor(0.0170), tensor([35.4450])]\n",
      "120 1.1401926713006105e-05 [tensor(0.1353), tensor(-0.0617), tensor(0.0655), tensor(0.0627), tensor(0.0162), tensor([35.3978])]\n",
      "130 1.101128691516351e-05 [tensor(0.1351), tensor(-0.0616), tensor(0.0657), tensor(0.0627), tensor(0.0156), tensor([35.3668])]\n",
      "140 1.0742534868768416e-05 [tensor(0.1351), tensor(-0.0616), tensor(0.0658), tensor(0.0627), tensor(0.0152), tensor([35.3497])]\n",
      "150 1.0553344509389717e-05 [tensor(0.1350), tensor(-0.0615), tensor(0.0659), tensor(0.0627), tensor(0.0148), tensor([35.3443])]\n",
      "160 1.0414549251436256e-05 [tensor(0.1349), tensor(-0.0614), tensor(0.0660), tensor(0.0626), tensor(0.0145), tensor([35.3490])]\n",
      "170 1.0306633157597389e-05 [tensor(0.1348), tensor(-0.0612), tensor(0.0661), tensor(0.0626), tensor(0.0143), tensor([35.3629])]\n",
      "180 1.0216922419203911e-05 [tensor(0.1347), tensor(-0.0611), tensor(0.0662), tensor(0.0626), tensor(0.0142), tensor([35.3849])]\n",
      "190 1.0137455319636501e-05 [tensor(0.1346), tensor(-0.0610), tensor(0.0663), tensor(0.0625), tensor(0.0141), tensor([35.4146])]\n",
      "200 1.0063342415378429e-05 [tensor(0.1346), tensor(-0.0608), tensor(0.0664), tensor(0.0625), tensor(0.0140), tensor([35.4515])]\n",
      "210 9.991648767027073e-06 [tensor(0.1345), tensor(-0.0607), tensor(0.0665), tensor(0.0624), tensor(0.0140), tensor([35.4954])]\n",
      "220 9.920657248585485e-06 [tensor(0.1344), tensor(-0.0605), tensor(0.0666), tensor(0.0624), tensor(0.0139), tensor([35.5463])]\n",
      "230 9.849338312051259e-06 [tensor(0.1343), tensor(-0.0604), tensor(0.0667), tensor(0.0623), tensor(0.0139), tensor([35.6040])]\n",
      "240 9.777054401638452e-06 [tensor(0.1343), tensor(-0.0602), tensor(0.0668), tensor(0.0623), tensor(0.0140), tensor([35.6687])]\n",
      "250 9.703386240289547e-06 [tensor(0.1342), tensor(-0.0600), tensor(0.0669), tensor(0.0622), tensor(0.0140), tensor([35.7405])]\n",
      "260 9.628017323848326e-06 [tensor(0.1341), tensor(-0.0598), tensor(0.0670), tensor(0.0621), tensor(0.0140), tensor([35.8197])]\n",
      "270 9.550683898851275e-06 [tensor(0.1340), tensor(-0.0596), tensor(0.0671), tensor(0.0621), tensor(0.0141), tensor([35.9064])]\n",
      "280 9.471134035266005e-06 [tensor(0.1340), tensor(-0.0594), tensor(0.0672), tensor(0.0620), tensor(0.0141), tensor([36.0010])]\n",
      "290 9.389142178406473e-06 [tensor(0.1339), tensor(-0.0591), tensor(0.0673), tensor(0.0619), tensor(0.0141), tensor([36.1038])]\n",
      "300 9.304429113399237e-06 [tensor(0.1338), tensor(-0.0589), tensor(0.0674), tensor(0.0618), tensor(0.0142), tensor([36.2151])]\n",
      "310 9.21677565202117e-06 [tensor(0.1337), tensor(-0.0586), tensor(0.0675), tensor(0.0617), tensor(0.0142), tensor([36.3353])]\n",
      "320 9.125918040808756e-06 [tensor(0.1336), tensor(-0.0584), tensor(0.0677), tensor(0.0616), tensor(0.0142), tensor([36.4648])]\n",
      "330 9.031587069330271e-06 [tensor(0.1336), tensor(-0.0581), tensor(0.0678), tensor(0.0615), tensor(0.0143), tensor([36.6038])]\n",
      "340 8.933517165132798e-06 [tensor(0.1335), tensor(-0.0578), tensor(0.0679), tensor(0.0613), tensor(0.0143), tensor([36.7529])]\n",
      "350 8.831455488689244e-06 [tensor(0.1334), tensor(-0.0574), tensor(0.0680), tensor(0.0612), tensor(0.0143), tensor([36.9123])]\n",
      "360 8.725111911189742e-06 [tensor(0.1333), tensor(-0.0571), tensor(0.0681), tensor(0.0611), tensor(0.0143), tensor([37.0825])]\n",
      "370 8.614219950686675e-06 [tensor(0.1332), tensor(-0.0567), tensor(0.0682), tensor(0.0609), tensor(0.0144), tensor([37.2637])]\n",
      "380 8.498499482811894e-06 [tensor(0.1331), tensor(-0.0563), tensor(0.0684), tensor(0.0607), tensor(0.0144), tensor([37.4564])]\n",
      "390 8.377690392080694e-06 [tensor(0.1330), tensor(-0.0559), tensor(0.0685), tensor(0.0606), tensor(0.0144), tensor([37.6609])]\n",
      "400 8.251526196545456e-06 [tensor(0.1329), tensor(-0.0555), tensor(0.0686), tensor(0.0604), tensor(0.0144), tensor([37.8774])]\n",
      "410 8.119748599710874e-06 [tensor(0.1329), tensor(-0.0551), tensor(0.0688), tensor(0.0602), tensor(0.0145), tensor([38.1063])]\n",
      "420 7.982122951943893e-06 [tensor(0.1328), tensor(-0.0546), tensor(0.0689), tensor(0.0600), tensor(0.0145), tensor([38.3477])]\n",
      "430 7.838408237148542e-06 [tensor(0.1327), tensor(-0.0541), tensor(0.0690), tensor(0.0598), tensor(0.0145), tensor([38.6020])]\n",
      "440 7.68839890952222e-06 [tensor(0.1326), tensor(-0.0536), tensor(0.0692), tensor(0.0595), tensor(0.0145), tensor([38.8692])]\n",
      "450 7.5318989729566965e-06 [tensor(0.1325), tensor(-0.0531), tensor(0.0693), tensor(0.0593), tensor(0.0145), tensor([39.1495])]\n",
      "460 7.368752903857967e-06 [tensor(0.1324), tensor(-0.0525), tensor(0.0695), tensor(0.0590), tensor(0.0145), tensor([39.4430])]\n",
      "470 7.198835191957187e-06 [tensor(0.1323), tensor(-0.0519), tensor(0.0696), tensor(0.0587), tensor(0.0145), tensor([39.7495])]\n",
      "480 7.02204488334246e-06 [tensor(0.1322), tensor(-0.0512), tensor(0.0698), tensor(0.0585), tensor(0.0146), tensor([40.0691])]\n",
      "490 6.8383383222681005e-06 [tensor(0.1321), tensor(-0.0506), tensor(0.0700), tensor(0.0582), tensor(0.0146), tensor([40.4014])]\n",
      "500 6.647714599239407e-06 [tensor(0.1319), tensor(-0.0499), tensor(0.0701), tensor(0.0578), tensor(0.0146), tensor([40.7463])]\n"
     ]
    }
   ],
   "source": [
    "optimizer_time = optim.RMSprop([{'params': [ihd_time.b1, ihd_time.b2, ihd_time.g, ihd_time.nu, ihd_time.l]},\n",
    "                                {'params': ihd_time.time, 'lr' : 1.}], lr=1e-3)\n",
    "criterion = nn.MSELoss()\n",
    "\n",
    "best_loss_hosp, best_parms_hosp = ihd_fit.trainig_hosp(ihd_time, init=true_init, t=t, optimizer=optimizer_time,\n",
    "                                        criterion=criterion,niters=500,data=(y_synt[:,1],y_synt[:,2]))"
   ]
  },
  {
   "cell_type": "code",
   "execution_count": 70,
   "metadata": {},
   "outputs": [
    {
     "name": "stdout",
     "output_type": "stream",
     "text": [
      "10 2.090758471240406e-06 [tensor(0.1276), tensor(-0.0463), tensor(0.0746), tensor(0.0534), tensor(0.0156), tensor([70.2703])]\n",
      "20 1.2782372778019635e-06 [tensor(0.1265), tensor(-0.0457), tensor(0.0760), tensor(0.0511), tensor(0.0164), tensor([79.7437])]\n",
      "30 1.0145453188670217e-06 [tensor(0.1260), tensor(-0.0455), tensor(0.0768), tensor(0.0493), tensor(0.0169), tensor([83.8687])]\n",
      "40 8.72749865266087e-07 [tensor(0.1256), tensor(-0.0454), tensor(0.0775), tensor(0.0478), tensor(0.0172), tensor([85.9186])]\n",
      "50 7.771027412672993e-07 [tensor(0.1254), tensor(-0.0453), tensor(0.0780), tensor(0.0465), tensor(0.0175), tensor([86.9527])]\n",
      "60 7.056780759739922e-07 [tensor(0.1252), tensor(-0.0453), tensor(0.0784), tensor(0.0454), tensor(0.0177), tensor([87.3938])]\n",
      "70 6.494386752819992e-07 [tensor(0.1250), tensor(-0.0453), tensor(0.0788), tensor(0.0444), tensor(0.0179), tensor([87.4402])]\n",
      "80 6.03648572905513e-07 [tensor(0.1248), tensor(-0.0453), tensor(0.0791), tensor(0.0435), tensor(0.0181), tensor([87.2001])]\n",
      "90 5.654437131852319e-07 [tensor(0.1247), tensor(-0.0453), tensor(0.0794), tensor(0.0426), tensor(0.0182), tensor([86.7448])]\n",
      "100 5.329588361746573e-07 [tensor(0.1246), tensor(-0.0453), tensor(0.0797), tensor(0.0418), tensor(0.0183), tensor([86.1313])]\n",
      "110 5.049657829658827e-07 [tensor(0.1244), tensor(-0.0453), tensor(0.0799), tensor(0.0411), tensor(0.0185), tensor([85.4116])]\n",
      "120 4.806549327440734e-07 [tensor(0.1243), tensor(-0.0453), tensor(0.0801), tensor(0.0404), tensor(0.0186), tensor([84.6332])]\n",
      "130 4.5947925286782265e-07 [tensor(0.1243), tensor(-0.0452), tensor(0.0802), tensor(0.0398), tensor(0.0186), tensor([83.8360])]\n",
      "140 4.4103776986048615e-07 [tensor(0.1242), tensor(-0.0452), tensor(0.0804), tensor(0.0392), tensor(0.0187), tensor([83.0494])]\n",
      "150 4.2505217834332143e-07 [tensor(0.1241), tensor(-0.0451), tensor(0.0805), tensor(0.0386), tensor(0.0188), tensor([82.2830])]\n",
      "160 4.3441701791380183e-07 [tensor(0.1238), tensor(-0.0451), tensor(0.0808), tensor(0.0381), tensor(0.0187), tensor([81.3924])]\n",
      "170 3.9974477772375394e-07 [tensor(0.1239), tensor(-0.0449), tensor(0.0808), tensor(0.0375), tensor(0.0189), tensor([80.8657])]\n",
      "180 3.894859332831402e-07 [tensor(0.1238), tensor(-0.0448), tensor(0.0808), tensor(0.0371), tensor(0.0190), tensor([80.2285])]\n",
      "190 3.805651545008004e-07 [tensor(0.1238), tensor(-0.0446), tensor(0.0809), tensor(0.0366), tensor(0.0190), tensor([79.6202])]\n",
      "200 3.727071771209012e-07 [tensor(0.1237), tensor(-0.0444), tensor(0.0810), tensor(0.0362), tensor(0.0191), tensor([79.0352])]\n",
      "210 3.657478657714819e-07 [tensor(0.1236), tensor(-0.0442), tensor(0.0810), tensor(0.0358), tensor(0.0191), tensor([78.4627])]\n",
      "220 3.5998218095301127e-07 [tensor(0.1235), tensor(-0.0439), tensor(0.0811), tensor(0.0354), tensor(0.0191), tensor([77.8630])]\n",
      "230 3.693118912906357e-07 [tensor(0.1233), tensor(-0.0436), tensor(0.0813), tensor(0.0351), tensor(0.0191), tensor([77.1202])]\n",
      "240 3.493830433853873e-07 [tensor(0.1234), tensor(-0.0432), tensor(0.0812), tensor(0.0347), tensor(0.0192), tensor([76.7677])]\n",
      "250 3.4425289641148993e-07 [tensor(0.1234), tensor(-0.0428), tensor(0.0812), tensor(0.0343), tensor(0.0193), tensor([76.2321])]\n",
      "260 3.3961697454287787e-07 [tensor(0.1233), tensor(-0.0423), tensor(0.0812), tensor(0.0340), tensor(0.0193), tensor([75.6636])]\n",
      "270 3.351051702793484e-07 [tensor(0.1232), tensor(-0.0418), tensor(0.0812), tensor(0.0337), tensor(0.0193), tensor([75.0562])]\n",
      "280 3.337614202791883e-07 [tensor(0.1231), tensor(-0.0412), tensor(0.0813), tensor(0.0335), tensor(0.0193), tensor([74.3038])]\n",
      "290 3.323329451632162e-07 [tensor(0.1231), tensor(-0.0405), tensor(0.0813), tensor(0.0332), tensor(0.0193), tensor([73.6297])]\n",
      "300 3.207350403044984e-07 [tensor(0.1231), tensor(-0.0397), tensor(0.0812), tensor(0.0329), tensor(0.0194), tensor([73.0827])]\n",
      "310 3.14653590294256e-07 [tensor(0.1231), tensor(-0.0389), tensor(0.0812), tensor(0.0326), tensor(0.0194), tensor([72.3458])]\n",
      "320 3.084131208197505e-07 [tensor(0.1230), tensor(-0.0380), tensor(0.0812), tensor(0.0324), tensor(0.0194), tensor([71.4890])]\n",
      "330 3.04541856621654e-07 [tensor(0.1230), tensor(-0.0371), tensor(0.0812), tensor(0.0321), tensor(0.0193), tensor([70.4207])]\n",
      "340 2.999485388954781e-07 [tensor(0.1229), tensor(-0.0360), tensor(0.0812), tensor(0.0318), tensor(0.0193), tensor([69.3646])]\n",
      "350 2.8396868856361834e-07 [tensor(0.1230), tensor(-0.0349), tensor(0.0811), tensor(0.0315), tensor(0.0194), tensor([68.3969])]\n",
      "360 2.7203307695344847e-07 [tensor(0.1230), tensor(-0.0338), tensor(0.0811), tensor(0.0311), tensor(0.0194), tensor([67.1254])]\n",
      "370 2.595228352220147e-07 [tensor(0.1230), tensor(-0.0326), tensor(0.0811), tensor(0.0307), tensor(0.0194), tensor([65.5714])]\n",
      "380 2.5037334694388846e-07 [tensor(0.1230), tensor(-0.0314), tensor(0.0811), tensor(0.0304), tensor(0.0193), tensor([63.6902])]\n",
      "390 2.2870044347200746e-07 [tensor(0.1230), tensor(-0.0301), tensor(0.0810), tensor(0.0299), tensor(0.0194), tensor([61.9531])]\n",
      "400 2.0453252602692373e-07 [tensor(0.1231), tensor(-0.0289), tensor(0.0809), tensor(0.0294), tensor(0.0194), tensor([59.9690])]\n",
      "410 1.8142910107599164e-07 [tensor(0.1232), tensor(-0.0277), tensor(0.0808), tensor(0.0288), tensor(0.0194), tensor([57.5962])]\n",
      "420 1.6257628487892362e-07 [tensor(0.1233), tensor(-0.0267), tensor(0.0807), tensor(0.0283), tensor(0.0194), tensor([54.9324])]\n",
      "430 1.3742972271302278e-07 [tensor(0.1235), tensor(-0.0258), tensor(0.0806), tensor(0.0277), tensor(0.0194), tensor([52.5939])]\n",
      "440 1.1193230164963097e-07 [tensor(0.1236), tensor(-0.0251), tensor(0.0804), tensor(0.0272), tensor(0.0195), tensor([50.3963])]\n",
      "450 9.591676786158132e-08 [tensor(0.1238), tensor(-0.0247), tensor(0.0803), tensor(0.0267), tensor(0.0195), tensor([48.1937])]\n",
      "460 8.878438961801294e-08 [tensor(0.1239), tensor(-0.0244), tensor(0.0802), tensor(0.0262), tensor(0.0195), tensor([46.2537])]\n",
      "470 7.518310951581952e-08 [tensor(0.1240), tensor(-0.0243), tensor(0.0801), tensor(0.0259), tensor(0.0196), tensor([44.9268])]\n",
      "480 6.573328192871486e-08 [tensor(0.1242), tensor(-0.0243), tensor(0.0799), tensor(0.0255), tensor(0.0196), tensor([43.7996])]\n",
      "490 6.282178333094635e-08 [tensor(0.1243), tensor(-0.0245), tensor(0.0798), tensor(0.0252), tensor(0.0196), tensor([42.7590])]\n",
      "500 6.244091110829686e-08 [tensor(0.1244), tensor(-0.0246), tensor(0.0797), tensor(0.0250), tensor(0.0196), tensor([41.9345])]\n"
     ]
    }
   ],
   "source": [
    "optimizer_time = optim.RMSprop([{'params': [ihd_time.b1, ihd_time.b2, ihd_time.g, ihd_time.nu, ihd_time.l]},\n",
    "                                {'params': ihd_time.time, 'lr' : 1.}], lr=1e-4)\n",
    "criterion = nn.MSELoss()\n",
    "\n",
    "best_loss_hosp, best_parms_hosp = ihd_fit.trainig_hosp(ihd_time, init=true_init, t=t, optimizer=optimizer_time,\n",
    "                                        criterion=criterion,niters=500,data=(y_synt[:,1],y_synt[:,2]))"
   ]
  },
  {
   "cell_type": "code",
   "execution_count": 74,
   "metadata": {},
   "outputs": [
    {
     "name": "stdout",
     "output_type": "stream",
     "text": [
      "10 4.706962286604721e-08 [tensor(0.1248), tensor(-0.0244), tensor(0.0793), tensor(0.0245), tensor(0.0198), tensor([39.6252])]\n",
      "20 4.56961330996819e-08 [tensor(0.1248), tensor(-0.0246), tensor(0.0793), tensor(0.0244), tensor(0.0197), tensor([39.6318])]\n",
      "30 4.4367716611759533e-08 [tensor(0.1248), tensor(-0.0248), tensor(0.0793), tensor(0.0243), tensor(0.0197), tensor([39.6116])]\n",
      "40 4.305403322746315e-08 [tensor(0.1248), tensor(-0.0250), tensor(0.0792), tensor(0.0242), tensor(0.0197), tensor([39.5729])]\n",
      "50 4.174907886067558e-08 [tensor(0.1249), tensor(-0.0252), tensor(0.0792), tensor(0.0241), tensor(0.0197), tensor([39.5188])]\n",
      "60 4.0451105576266855e-08 [tensor(0.1249), tensor(-0.0254), tensor(0.0792), tensor(0.0240), tensor(0.0197), tensor([39.4519])]\n",
      "70 3.915929269737717e-08 [tensor(0.1249), tensor(-0.0256), tensor(0.0791), tensor(0.0239), tensor(0.0197), tensor([39.3738])]\n",
      "80 3.787417313105834e-08 [tensor(0.1249), tensor(-0.0259), tensor(0.0791), tensor(0.0238), tensor(0.0198), tensor([39.2863])]\n",
      "90 3.659701519609371e-08 [tensor(0.1250), tensor(-0.0261), tensor(0.0791), tensor(0.0237), tensor(0.0198), tensor([39.1904])]\n",
      "100 3.5328412195667624e-08 [tensor(0.1250), tensor(-0.0263), tensor(0.0790), tensor(0.0235), tensor(0.0198), tensor([39.0871])]\n",
      "110 3.40701724610426e-08 [tensor(0.1251), tensor(-0.0265), tensor(0.0790), tensor(0.0234), tensor(0.0198), tensor([38.9774])]\n",
      "120 3.282365668155762e-08 [tensor(0.1251), tensor(-0.0268), tensor(0.0789), tensor(0.0233), tensor(0.0198), tensor([38.8621])]\n",
      "130 3.1590456472940787e-08 [tensor(0.1251), tensor(-0.0270), tensor(0.0789), tensor(0.0232), tensor(0.0198), tensor([38.7415])]\n",
      "140 3.0373595194532754e-08 [tensor(0.1252), tensor(-0.0272), tensor(0.0788), tensor(0.0230), tensor(0.0198), tensor([38.6099])]\n",
      "150 3.324548458749632e-08 [tensor(0.1252), tensor(-0.0276), tensor(0.0788), tensor(0.0229), tensor(0.0197), tensor([38.0873])]\n",
      "160 4.5376893353932246e-08 [tensor(0.1252), tensor(-0.0277), tensor(0.0788), tensor(0.0229), tensor(0.0197), tensor([38.1266])]\n",
      "170 2.802022258663328e-08 [tensor(0.1253), tensor(-0.0278), tensor(0.0787), tensor(0.0228), tensor(0.0198), tensor([38.4127])]\n",
      "180 2.7190729667836422e-08 [tensor(0.1253), tensor(-0.0279), tensor(0.0787), tensor(0.0227), tensor(0.0198), tensor([38.3227])]\n",
      "190 2.6424558541293663e-08 [tensor(0.1253), tensor(-0.0281), tensor(0.0786), tensor(0.0226), tensor(0.0198), tensor([38.2160])]\n",
      "200 2.5657797664280224e-08 [tensor(0.1254), tensor(-0.0282), tensor(0.0786), tensor(0.0225), tensor(0.0198), tensor([38.1071])]\n",
      "210 2.4901316564296394e-08 [tensor(0.1254), tensor(-0.0284), tensor(0.0785), tensor(0.0224), tensor(0.0198), tensor([37.9875])]\n",
      "220 2.5072722564800642e-08 [tensor(0.1254), tensor(-0.0286), tensor(0.0785), tensor(0.0223), tensor(0.0198), tensor([37.7378])]\n",
      "230 9.034448567035724e-08 [tensor(0.1253), tensor(-0.0289), tensor(0.0786), tensor(0.0224), tensor(0.0197), tensor([36.7216])]\n",
      "240 2.5610203735482173e-08 [tensor(0.1254), tensor(-0.0288), tensor(0.0785), tensor(0.0222), tensor(0.0198), tensor([37.6619])]\n",
      "250 2.272091847999036e-08 [tensor(0.1255), tensor(-0.0290), tensor(0.0784), tensor(0.0221), tensor(0.0198), tensor([37.6950])]\n",
      "260 2.2068057603519264e-08 [tensor(0.1255), tensor(-0.0291), tensor(0.0784), tensor(0.0221), tensor(0.0198), tensor([37.6150])]\n",
      "270 2.1592914123402807e-08 [tensor(0.1256), tensor(-0.0292), tensor(0.0783), tensor(0.0220), tensor(0.0198), tensor([37.4989])]\n",
      "280 2.3215678268684314e-08 [tensor(0.1256), tensor(-0.0294), tensor(0.0783), tensor(0.0219), tensor(0.0198), tensor([37.2301])]\n",
      "290 6.302867916474497e-08 [tensor(0.1255), tensor(-0.0296), tensor(0.0784), tensor(0.0220), tensor(0.0197), tensor([36.5163])]\n",
      "300 2.5388171565055018e-08 [tensor(0.1256), tensor(-0.0296), tensor(0.0783), tensor(0.0218), tensor(0.0198), tensor([37.1316])]\n",
      "310 2.0309622428271723e-08 [tensor(0.1256), tensor(-0.0297), tensor(0.0782), tensor(0.0218), tensor(0.0198), tensor([37.2167])]\n",
      "320 1.966806983944025e-08 [tensor(0.1257), tensor(-0.0298), tensor(0.0782), tensor(0.0217), tensor(0.0198), tensor([37.1429])]\n",
      "330 2.066425430768959e-08 [tensor(0.1257), tensor(-0.0300), tensor(0.0782), tensor(0.0216), tensor(0.0198), tensor([36.9565])]\n",
      "340 3.9057269418663054e-08 [tensor(0.1256), tensor(-0.0302), tensor(0.0782), tensor(0.0216), tensor(0.0197), tensor([36.4370])]\n",
      "350 3.258381653381548e-08 [tensor(0.1257), tensor(-0.0302), tensor(0.0782), tensor(0.0216), tensor(0.0198), tensor([36.6192])]\n",
      "360 1.9972349107888476e-08 [tensor(0.1258), tensor(-0.0303), tensor(0.0781), tensor(0.0215), tensor(0.0198), tensor([36.8328])]\n",
      "370 1.8616535868432038e-08 [tensor(0.1258), tensor(-0.0304), tensor(0.0781), tensor(0.0214), tensor(0.0198), tensor([36.7958])]\n",
      "380 2.033697121817113e-08 [tensor(0.1258), tensor(-0.0305), tensor(0.0780), tensor(0.0214), tensor(0.0198), tensor([36.6183])]\n",
      "390 3.487149768943709e-08 [tensor(0.1258), tensor(-0.0306), tensor(0.0781), tensor(0.0214), tensor(0.0198), tensor([36.2289])]\n",
      "400 3.016489102947162e-08 [tensor(0.1258), tensor(-0.0307), tensor(0.0780), tensor(0.0213), tensor(0.0198), tensor([36.3426])]\n",
      "410 1.959627304870537e-08 [tensor(0.1259), tensor(-0.0308), tensor(0.0780), tensor(0.0213), tensor(0.0198), tensor([36.5135])]\n",
      "420 1.825041806569061e-08 [tensor(0.1259), tensor(-0.0309), tensor(0.0779), tensor(0.0212), tensor(0.0198), tensor([36.4754])]\n",
      "430 2.1443613107408055e-08 [tensor(0.1259), tensor(-0.0310), tensor(0.0779), tensor(0.0212), tensor(0.0198), tensor([36.2860])]\n",
      "440 3.296236172900535e-08 [tensor(0.1259), tensor(-0.0311), tensor(0.0779), tensor(0.0212), tensor(0.0198), tensor([36.0183])]\n",
      "450 2.5658261293415308e-08 [tensor(0.1259), tensor(-0.0311), tensor(0.0779), tensor(0.0211), tensor(0.0198), tensor([36.1474])]\n",
      "460 1.8897328146749715e-08 [tensor(0.1260), tensor(-0.0312), tensor(0.0778), tensor(0.0210), tensor(0.0198), tensor([36.2442])]\n",
      "470 1.8470210250143282e-08 [tensor(0.1260), tensor(-0.0313), tensor(0.0778), tensor(0.0210), tensor(0.0198), tensor([36.1812])]\n",
      "480 2.3322121123214856e-08 [tensor(0.1260), tensor(-0.0314), tensor(0.0778), tensor(0.0210), tensor(0.0198), tensor([35.9871])]\n",
      "490 2.9500661469228362e-08 [tensor(0.1260), tensor(-0.0315), tensor(0.0778), tensor(0.0210), tensor(0.0198), tensor([35.8525])]\n",
      "500 2.2262048204879648e-08 [tensor(0.1260), tensor(-0.0316), tensor(0.0778), tensor(0.0209), tensor(0.0198), tensor([35.9656])]\n"
     ]
    }
   ],
   "source": [
    "optimizer_time = optim.RMSprop([{'params': [ihd_time.b1, ihd_time.b2, ihd_time.g, ihd_time.nu, ihd_time.l]},\n",
    "                                {'params': ihd_time.time, 'lr' : 1.}], lr=1e-4)\n",
    "criterion = nn.MSELoss()\n",
    "\n",
    "best_loss_hosp, best_parms_hosp = ihd_fit.trainig_hosp(ihd_time, init=true_init, t=t, optimizer=optimizer_time,\n",
    "                                        criterion=criterion,niters=500,data=(y_synt[:,1],y_synt[:,2]))"
   ]
  },
  {
   "cell_type": "code",
   "execution_count": 75,
   "metadata": {},
   "outputs": [],
   "source": [
    "ihd_inf = ihd_fit.get_best_model(best_parms_hosp)\n",
    "y_inf = ihd_fit.predic_ode(ihd_inf, true_init,t)"
   ]
  },
  {
   "cell_type": "code",
   "execution_count": 76,
   "metadata": {},
   "outputs": [
    {
     "data": {
      "image/png": "[encoded data removed]",
      "text/plain": [
       "<Figure size 432x288 with 1 Axes>"
      ]
     },
     "metadata": {
      "needs_background": "light"
     },
     "output_type": "display_data"
    }
   ],
   "source": [
    "plt.plot(y_inf[:,0], 'b', label='Est. I')\n",
    "plt.plot(y_synt[:,0], 'b--', label='I')\n",
    "plt.plot(y_inf[:,1], 'g', label='Est. H')\n",
    "plt.plot(y_synt[:,1], 'g--', label='H')\n",
    "plt.plot(y_inf[:,2], 'r', label='Est. D')\n",
    "plt.plot(y_synt[:,2], 'r--', label='D')\n",
    "plt.ylabel('fraction pop')\n",
    "plt.xlabel('time')\n",
    "plt.legend();"
   ]
  },
  {
   "cell_type": "markdown",
   "metadata": {},
   "source": [
    "We see that we obtain much better results here. Although we do not observe the curve of infected individuals, we are able to get a rough estimate of it."
   ]
  },
  {
   "cell_type": "code",
   "execution_count": 77,
   "metadata": {},
   "outputs": [
    {
     "name": "stdout",
     "output_type": "stream",
     "text": [
      "beta ,true:  0.10000000149011612 ,evaluated:  0.1260107010602951\n",
      "delta ,true:  -0.03999999910593033 ,evaluated:  -0.03155003860592842\n",
      "gamma ,true:  0.05000000074505806 ,evaluated:  0.07776334881782532\n",
      "nu ,true:  0.014999999664723873 ,evaluated:  0.020897185429930687\n",
      "lambda ,true:  0.019999999552965164 ,evaluated:  0.019811244681477547\n",
      "time ,true:  30.0 ,evaluated:  35.96559143066406\n"
     ]
    }
   ],
   "source": [
    "for i,p in enumerate(best_parms_hosp):\n",
    "    try: \n",
    "        print(name_parms[i], ',true: ', parms[i].item(), ',evaluated: ', p.data.item())\n",
    "    except:\n",
    "        print('time', ',true: ', time.item(), ',evaluated: ', p.data.item())"
   ]
  },
  {
   "cell_type": "code",
   "execution_count": null,
   "metadata": {},
   "outputs": [],
   "source": []
  }
 ],
 "metadata": {
  "kernelspec": {
   "display_name": "torchdiffeq",
   "language": "python",
   "name": "torchdiffeq"
  },
  "language_info": {
   "codemirror_mode": {
    "name": "ipython",
    "version": 3
   },
   "file_extension": ".py",
   "mimetype": "text/x-python",
   "name": "python",
   "nbconvert_exporter": "python",
   "pygments_lexer": "ipython3",
   "version": "3.6.9"
  }
 },
 "nbformat": 4,
 "nbformat_minor": 2
}
